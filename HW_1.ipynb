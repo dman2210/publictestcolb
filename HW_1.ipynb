{
  "nbformat": 4,
  "nbformat_minor": 0,
  "metadata": {
    "colab": {
      "name": "HW_1.ipynb",
      "provenance": []
    },
    "kernelspec": {
      "name": "python3",
      "display_name": "Python 3"
    }
  },
  "cells": [
    {
      "cell_type": "markdown",
      "metadata": {
        "id": "XDRQWf15ZcVD",
        "colab_type": "text"
      },
      "source": [
        "# Homework 1\n",
        "Dr. Kerby </br>\n",
        "Applied Neural Networks"
      ]
    },
    {
      "cell_type": "markdown",
      "metadata": {
        "id": "onymHAnuZigw",
        "colab_type": "text"
      },
      "source": [
        "**Question 1**</br>\n",
        "Import the MNIST Digits Dataset as shown in class. Split the dataset into training (60k) and testing (10k) image sets. Take as many cells as you need."
      ]
    },
    {
      "cell_type": "code",
      "metadata": {
        "id": "Xlrt4f1EZcrp",
        "colab_type": "code",
        "colab": {}
      },
      "source": [
        ""
      ],
      "execution_count": 0,
      "outputs": []
    },
    {
      "cell_type": "markdown",
      "metadata": {
        "id": "nOgmgWp-ZyR0",
        "colab_type": "text"
      },
      "source": [
        "**Question 2**</br>\n",
        "Perform PCA and then Logistic Regression on the unscaled dataset at 15 different %-variance-preserved levels. Record the number of components at each variance level, and record the accuracy of each. </br>\n",
        "*Hint: Might be easiest to store the variance %, # components, and accuracy, in separate lists (or a multi-dimensional list) for use in plotting later.*"
      ]
    },
    {
      "cell_type": "code",
      "metadata": {
        "id": "I9Bnnw6pZc5C",
        "colab_type": "code",
        "colab": {}
      },
      "source": [
        ""
      ],
      "execution_count": 0,
      "outputs": []
    },
    {
      "cell_type": "markdown",
      "metadata": {
        "id": "QICMth1yZ_uN",
        "colab_type": "text"
      },
      "source": [
        "**Question 3**</br>\n",
        "Plot your results. Use the number of components/features as the x-axis and the %-variance and accuracy as the y-axis. You may plot two plots. Or if you wish to be fancy, put it on one plot with a secondary y-axis. :) "
      ]
    },
    {
      "cell_type": "code",
      "metadata": {
        "id": "cNmYAxU2Zc9U",
        "colab_type": "code",
        "colab": {}
      },
      "source": [
        ""
      ],
      "execution_count": 0,
      "outputs": []
    },
    {
      "cell_type": "markdown",
      "metadata": {
        "id": "z7lB7dMfcdGL",
        "colab_type": "text"
      },
      "source": [
        "**Question 4**</br>\n",
        "Comment/analyze your results."
      ]
    },
    {
      "cell_type": "code",
      "metadata": {
        "id": "WbOBKEk9cdgJ",
        "colab_type": "code",
        "colab": {}
      },
      "source": [
        ""
      ],
      "execution_count": 0,
      "outputs": []
    },
    {
      "cell_type": "markdown",
      "metadata": {
        "id": "4ddI2S6scdwD",
        "colab_type": "text"
      },
      "source": [
        "**Graduate Students Only**</br>\n",
        "Repeat steps 1-4 but with SCALED data (StandardScaler)."
      ]
    },
    {
      "cell_type": "code",
      "metadata": {
        "id": "de1pBWbicd-j",
        "colab_type": "code",
        "colab": {}
      },
      "source": [
        ""
      ],
      "execution_count": 0,
      "outputs": []
    }
  ]
}